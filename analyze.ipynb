{
 "cells": [
  {
   "cell_type": "markdown",
   "metadata": {},
   "source": [
    "# Load and parse data"
   ]
  },
  {
   "cell_type": "code",
   "execution_count": 6,
   "metadata": {
    "ExecuteTime": {
     "end_time": "2020-10-11T20:50:33.074951Z",
     "start_time": "2020-10-11T20:50:33.070383Z"
    }
   },
   "outputs": [],
   "source": [
    "import os\n",
    "import pandas as pd\n",
    "import json"
   ]
  },
  {
   "cell_type": "code",
   "execution_count": 4,
   "metadata": {
    "ExecuteTime": {
     "end_time": "2020-10-11T20:50:17.984178Z",
     "start_time": "2020-10-11T20:50:17.980315Z"
    }
   },
   "outputs": [],
   "source": [
    "files = os.listdir('results')\n",
    "files = ['results/' + f for f in files if '.json' in f]"
   ]
  },
  {
   "cell_type": "code",
   "execution_count": 18,
   "metadata": {
    "ExecuteTime": {
     "end_time": "2020-10-11T20:54:00.463270Z",
     "start_time": "2020-10-11T20:54:00.457828Z"
    }
   },
   "outputs": [
    {
     "data": {
      "text/plain": [
       "{'name': 'Zachary',\n",
       " 'registered': 1,\n",
       " 'expiry': '2025.05.04 at 07:06 (UTC+02:00)',\n",
       " 'registrant': '0xbb46bE602D82F3209B6392130B5BBd40D78df339'}"
      ]
     },
     "execution_count": 18,
     "metadata": {},
     "output_type": "execute_result"
    }
   ],
   "source": [
    "res"
   ]
  },
  {
   "cell_type": "code",
   "execution_count": 23,
   "metadata": {
    "ExecuteTime": {
     "end_time": "2020-10-11T20:55:37.689031Z",
     "start_time": "2020-10-11T20:55:37.667875Z"
    }
   },
   "outputs": [],
   "source": [
    "results = []\n",
    "for file in files:\n",
    "    with open(file) as f:\n",
    "        res = json.load(f)\n",
    "\n",
    "        expiry = res['expiry'].split(\" (\")[0].replace('.','/').replace(\" at\",\"\")\n",
    "        \n",
    "        parsed = {}\n",
    "        parsed['name'] = res['name']\n",
    "        parsed['registered'] = res['registered']\n",
    "        parsed['registrant'] = res['registrant']\n",
    "        parsed['expiry'] = expiry\n",
    "        \n",
    "        results.append(parsed)"
   ]
  },
  {
   "cell_type": "code",
   "execution_count": 28,
   "metadata": {
    "ExecuteTime": {
     "end_time": "2020-10-11T20:55:57.957835Z",
     "start_time": "2020-10-11T20:55:57.943630Z"
    }
   },
   "outputs": [
    {
     "data": {
      "text/html": [
       "<div>\n",
       "<style scoped>\n",
       "    .dataframe tbody tr th:only-of-type {\n",
       "        vertical-align: middle;\n",
       "    }\n",
       "\n",
       "    .dataframe tbody tr th {\n",
       "        vertical-align: top;\n",
       "    }\n",
       "\n",
       "    .dataframe thead th {\n",
       "        text-align: right;\n",
       "    }\n",
       "</style>\n",
       "<table border=\"1\" class=\"dataframe\">\n",
       "  <thead>\n",
       "    <tr style=\"text-align: right;\">\n",
       "      <th></th>\n",
       "      <th>name</th>\n",
       "      <th>registered</th>\n",
       "      <th>registrant</th>\n",
       "      <th>expiry</th>\n",
       "    </tr>\n",
       "  </thead>\n",
       "  <tbody>\n",
       "    <tr>\n",
       "      <th>0</th>\n",
       "      <td>David</td>\n",
       "      <td>1</td>\n",
       "      <td>0x825cED62D73DC9D40F2fE3ea60fEd36A7a54EAE6</td>\n",
       "      <td>2021-10-14 13:25:00</td>\n",
       "    </tr>\n",
       "    <tr>\n",
       "      <th>1</th>\n",
       "      <td>Lucas</td>\n",
       "      <td>1</td>\n",
       "      <td>0x28F38476Af61B3d0FFD0d46bc2fb569d5edfA3BB</td>\n",
       "      <td>2020-10-17 01:27:00</td>\n",
       "    </tr>\n",
       "    <tr>\n",
       "      <th>2</th>\n",
       "      <td>Brandon</td>\n",
       "      <td>1</td>\n",
       "      <td>0xbb46bE602D82F3209B6392130B5BBd40D78df339</td>\n",
       "      <td>2025-05-04 07:06:00</td>\n",
       "    </tr>\n",
       "    <tr>\n",
       "      <th>3</th>\n",
       "      <td>Leo</td>\n",
       "      <td>1</td>\n",
       "      <td>0x56609a8e0601B9aFAbC90923bF20DF0523993cA6</td>\n",
       "      <td>2020-10-29 00:52:00</td>\n",
       "    </tr>\n",
       "    <tr>\n",
       "      <th>4</th>\n",
       "      <td>Connor</td>\n",
       "      <td>1</td>\n",
       "      <td>0x00Bec19a4149eC55AB8582Ac7914b5a928A6e8F8</td>\n",
       "      <td>2020-10-16 10:54:00</td>\n",
       "    </tr>\n",
       "  </tbody>\n",
       "</table>\n",
       "</div>"
      ],
      "text/plain": [
       "      name  registered                                  registrant  \\\n",
       "0    David           1  0x825cED62D73DC9D40F2fE3ea60fEd36A7a54EAE6   \n",
       "1    Lucas           1  0x28F38476Af61B3d0FFD0d46bc2fb569d5edfA3BB   \n",
       "2  Brandon           1  0xbb46bE602D82F3209B6392130B5BBd40D78df339   \n",
       "3      Leo           1  0x56609a8e0601B9aFAbC90923bF20DF0523993cA6   \n",
       "4   Connor           1  0x00Bec19a4149eC55AB8582Ac7914b5a928A6e8F8   \n",
       "\n",
       "               expiry  \n",
       "0 2021-10-14 13:25:00  \n",
       "1 2020-10-17 01:27:00  \n",
       "2 2025-05-04 07:06:00  \n",
       "3 2020-10-29 00:52:00  \n",
       "4 2020-10-16 10:54:00  "
      ]
     },
     "execution_count": 28,
     "metadata": {},
     "output_type": "execute_result"
    }
   ],
   "source": [
    "df = pd.DataFrame(results)\n",
    "df['expiry'] = pd.to_datetime(df['expiry'])\n",
    "df.head()"
   ]
  },
  {
   "cell_type": "code",
   "execution_count": 29,
   "metadata": {
    "ExecuteTime": {
     "end_time": "2020-10-11T20:56:13.183477Z",
     "start_time": "2020-10-11T20:56:13.175800Z"
    }
   },
   "outputs": [],
   "source": [
    "df.sort_values('expiry', ascending=True, inplace=True)"
   ]
  },
  {
   "cell_type": "markdown",
   "metadata": {},
   "source": [
    "# find unregistered names"
   ]
  },
  {
   "cell_type": "code",
   "execution_count": 32,
   "metadata": {
    "ExecuteTime": {
     "end_time": "2020-10-11T20:58:47.178601Z",
     "start_time": "2020-10-11T20:58:47.164516Z"
    }
   },
   "outputs": [
    {
     "data": {
      "text/html": [
       "<div>\n",
       "<style scoped>\n",
       "    .dataframe tbody tr th:only-of-type {\n",
       "        vertical-align: middle;\n",
       "    }\n",
       "\n",
       "    .dataframe tbody tr th {\n",
       "        vertical-align: top;\n",
       "    }\n",
       "\n",
       "    .dataframe thead th {\n",
       "        text-align: right;\n",
       "    }\n",
       "</style>\n",
       "<table border=\"1\" class=\"dataframe\">\n",
       "  <thead>\n",
       "    <tr style=\"text-align: right;\">\n",
       "      <th></th>\n",
       "      <th>name</th>\n",
       "      <th>registered</th>\n",
       "      <th>registrant</th>\n",
       "      <th>expiry</th>\n",
       "    </tr>\n",
       "  </thead>\n",
       "  <tbody>\n",
       "    <tr>\n",
       "      <th>28</th>\n",
       "      <td>Eli</td>\n",
       "      <td>0</td>\n",
       "      <td></td>\n",
       "      <td>NaT</td>\n",
       "    </tr>\n",
       "    <tr>\n",
       "      <th>51</th>\n",
       "      <td>Jace</td>\n",
       "      <td>0</td>\n",
       "      <td></td>\n",
       "      <td>NaT</td>\n",
       "    </tr>\n",
       "  </tbody>\n",
       "</table>\n",
       "</div>"
      ],
      "text/plain": [
       "    name  registered registrant expiry\n",
       "28   Eli           0               NaT\n",
       "51  Jace           0               NaT"
      ]
     },
     "execution_count": 32,
     "metadata": {},
     "output_type": "execute_result"
    }
   ],
   "source": [
    "df[df['registrant'] == '']"
   ]
  },
  {
   "cell_type": "markdown",
   "metadata": {},
   "source": [
    "# find domains expiring soon"
   ]
  },
  {
   "cell_type": "code",
   "execution_count": 30,
   "metadata": {
    "ExecuteTime": {
     "end_time": "2020-10-11T20:56:15.897953Z",
     "start_time": "2020-10-11T20:56:15.884895Z"
    }
   },
   "outputs": [
    {
     "data": {
      "text/html": [
       "<div>\n",
       "<style scoped>\n",
       "    .dataframe tbody tr th:only-of-type {\n",
       "        vertical-align: middle;\n",
       "    }\n",
       "\n",
       "    .dataframe tbody tr th {\n",
       "        vertical-align: top;\n",
       "    }\n",
       "\n",
       "    .dataframe thead th {\n",
       "        text-align: right;\n",
       "    }\n",
       "</style>\n",
       "<table border=\"1\" class=\"dataframe\">\n",
       "  <thead>\n",
       "    <tr style=\"text-align: right;\">\n",
       "      <th></th>\n",
       "      <th>name</th>\n",
       "      <th>registered</th>\n",
       "      <th>registrant</th>\n",
       "      <th>expiry</th>\n",
       "    </tr>\n",
       "  </thead>\n",
       "  <tbody>\n",
       "    <tr>\n",
       "      <th>16</th>\n",
       "      <td>Tyler</td>\n",
       "      <td>1</td>\n",
       "      <td>0x909969fB07D0B5683bF7d6EB93928Bd8116Eee00</td>\n",
       "      <td>2020-09-28 07:23:00</td>\n",
       "    </tr>\n",
       "    <tr>\n",
       "      <th>7</th>\n",
       "      <td>Mateo</td>\n",
       "      <td>1</td>\n",
       "      <td>0xAd11b98Cb4DA457be6aa324f0C4beC9f791fB3CE</td>\n",
       "      <td>2020-09-28 21:07:00</td>\n",
       "    </tr>\n",
       "    <tr>\n",
       "      <th>31</th>\n",
       "      <td>Hunter</td>\n",
       "      <td>1</td>\n",
       "      <td>0xEf1Fe2b0B58FdC7334Cb70B6D50260c5510cd8C9</td>\n",
       "      <td>2020-10-08 06:53:00</td>\n",
       "    </tr>\n",
       "    <tr>\n",
       "      <th>83</th>\n",
       "      <td>Chase</td>\n",
       "      <td>1</td>\n",
       "      <td>0x449Ab4437c8a41FAD0a91885A5905Fd36F408A0A</td>\n",
       "      <td>2020-10-08 06:56:00</td>\n",
       "    </tr>\n",
       "    <tr>\n",
       "      <th>11</th>\n",
       "      <td>Elias</td>\n",
       "      <td>1</td>\n",
       "      <td>0x63656862f0a71B0f84F10EFE5a9880DbB7acF91C</td>\n",
       "      <td>2020-10-08 07:01:00</td>\n",
       "    </tr>\n",
       "    <tr>\n",
       "      <th>39</th>\n",
       "      <td>Kevin</td>\n",
       "      <td>1</td>\n",
       "      <td>0x6De8F1204616773Af4193d3BDBaDA325E9bF9679</td>\n",
       "      <td>2020-10-08 07:02:00</td>\n",
       "    </tr>\n",
       "    <tr>\n",
       "      <th>110</th>\n",
       "      <td>Austin</td>\n",
       "      <td>1</td>\n",
       "      <td>0xE2FaA63f2351c6F2b88659f2fFfC2167172D329a</td>\n",
       "      <td>2020-10-08 07:02:00</td>\n",
       "    </tr>\n",
       "    <tr>\n",
       "      <th>114</th>\n",
       "      <td>Weston</td>\n",
       "      <td>1</td>\n",
       "      <td>0xBAc4c618382E93358E1973E5F447da2481c0E278</td>\n",
       "      <td>2020-10-08 07:12:00</td>\n",
       "    </tr>\n",
       "    <tr>\n",
       "      <th>77</th>\n",
       "      <td>Landon</td>\n",
       "      <td>1</td>\n",
       "      <td>0x34cd8a21E92b0Abd558Ff02D6cc7a9e12DAf0ff1</td>\n",
       "      <td>2020-10-14 09:57:00</td>\n",
       "    </tr>\n",
       "    <tr>\n",
       "      <th>67</th>\n",
       "      <td>Carson</td>\n",
       "      <td>1</td>\n",
       "      <td>0x93D46185C77f348B3F11bAc55bfeacF61163B3e5</td>\n",
       "      <td>2020-10-14 11:09:00</td>\n",
       "    </tr>\n",
       "    <tr>\n",
       "      <th>104</th>\n",
       "      <td>Isaac</td>\n",
       "      <td>1</td>\n",
       "      <td>0x08D816526BdC9d077DD685Bd9FA49F58A5Ab8e48</td>\n",
       "      <td>2020-10-14 14:47:00</td>\n",
       "    </tr>\n",
       "    <tr>\n",
       "      <th>112</th>\n",
       "      <td>Gavin</td>\n",
       "      <td>1</td>\n",
       "      <td>0x00dF2b2B13Fe76Ecf406d61700195A81b16EfAD4</td>\n",
       "      <td>2020-10-15 02:58:00</td>\n",
       "    </tr>\n",
       "    <tr>\n",
       "      <th>88</th>\n",
       "      <td>Micah</td>\n",
       "      <td>1</td>\n",
       "      <td>0x34E2cB7513A50b19f450a067ed5230A86c13A2E9</td>\n",
       "      <td>2020-10-15 19:53:00</td>\n",
       "    </tr>\n",
       "    <tr>\n",
       "      <th>4</th>\n",
       "      <td>Connor</td>\n",
       "      <td>1</td>\n",
       "      <td>0x00Bec19a4149eC55AB8582Ac7914b5a928A6e8F8</td>\n",
       "      <td>2020-10-16 10:54:00</td>\n",
       "    </tr>\n",
       "    <tr>\n",
       "      <th>42</th>\n",
       "      <td>Josiah</td>\n",
       "      <td>1</td>\n",
       "      <td>0x6775e49108cb77cda06Fc3BEF51bcD497602aD88</td>\n",
       "      <td>2020-10-16 11:56:00</td>\n",
       "    </tr>\n",
       "    <tr>\n",
       "      <th>49</th>\n",
       "      <td>Damian</td>\n",
       "      <td>1</td>\n",
       "      <td>0x358B532B553aA29EB0295AD72Fa2C1fF528C8c82</td>\n",
       "      <td>2020-10-16 15:51:00</td>\n",
       "    </tr>\n",
       "    <tr>\n",
       "      <th>12</th>\n",
       "      <td>Aiden</td>\n",
       "      <td>1</td>\n",
       "      <td>0x34cd8a21E92b0Abd558Ff02D6cc7a9e12DAf0ff1</td>\n",
       "      <td>2020-10-16 18:49:00</td>\n",
       "    </tr>\n",
       "    <tr>\n",
       "      <th>1</th>\n",
       "      <td>Lucas</td>\n",
       "      <td>1</td>\n",
       "      <td>0x28F38476Af61B3d0FFD0d46bc2fb569d5edfA3BB</td>\n",
       "      <td>2020-10-17 01:27:00</td>\n",
       "    </tr>\n",
       "    <tr>\n",
       "      <th>41</th>\n",
       "      <td>Jason</td>\n",
       "      <td>1</td>\n",
       "      <td>0x59e3feFAD4c680BF7EF5369347D062341E677A96</td>\n",
       "      <td>2020-10-17 01:29:00</td>\n",
       "    </tr>\n",
       "    <tr>\n",
       "      <th>40</th>\n",
       "      <td>Logan</td>\n",
       "      <td>1</td>\n",
       "      <td>0xf5c7e6e87fd7C8818bAE1730f2a6fe68fAd56cbd</td>\n",
       "      <td>2020-10-17 10:01:00</td>\n",
       "    </tr>\n",
       "  </tbody>\n",
       "</table>\n",
       "</div>"
      ],
      "text/plain": [
       "       name  registered                                  registrant  \\\n",
       "16    Tyler           1  0x909969fB07D0B5683bF7d6EB93928Bd8116Eee00   \n",
       "7     Mateo           1  0xAd11b98Cb4DA457be6aa324f0C4beC9f791fB3CE   \n",
       "31   Hunter           1  0xEf1Fe2b0B58FdC7334Cb70B6D50260c5510cd8C9   \n",
       "83    Chase           1  0x449Ab4437c8a41FAD0a91885A5905Fd36F408A0A   \n",
       "11    Elias           1  0x63656862f0a71B0f84F10EFE5a9880DbB7acF91C   \n",
       "39    Kevin           1  0x6De8F1204616773Af4193d3BDBaDA325E9bF9679   \n",
       "110  Austin           1  0xE2FaA63f2351c6F2b88659f2fFfC2167172D329a   \n",
       "114  Weston           1  0xBAc4c618382E93358E1973E5F447da2481c0E278   \n",
       "77   Landon           1  0x34cd8a21E92b0Abd558Ff02D6cc7a9e12DAf0ff1   \n",
       "67   Carson           1  0x93D46185C77f348B3F11bAc55bfeacF61163B3e5   \n",
       "104   Isaac           1  0x08D816526BdC9d077DD685Bd9FA49F58A5Ab8e48   \n",
       "112   Gavin           1  0x00dF2b2B13Fe76Ecf406d61700195A81b16EfAD4   \n",
       "88    Micah           1  0x34E2cB7513A50b19f450a067ed5230A86c13A2E9   \n",
       "4    Connor           1  0x00Bec19a4149eC55AB8582Ac7914b5a928A6e8F8   \n",
       "42   Josiah           1  0x6775e49108cb77cda06Fc3BEF51bcD497602aD88   \n",
       "49   Damian           1  0x358B532B553aA29EB0295AD72Fa2C1fF528C8c82   \n",
       "12    Aiden           1  0x34cd8a21E92b0Abd558Ff02D6cc7a9e12DAf0ff1   \n",
       "1     Lucas           1  0x28F38476Af61B3d0FFD0d46bc2fb569d5edfA3BB   \n",
       "41    Jason           1  0x59e3feFAD4c680BF7EF5369347D062341E677A96   \n",
       "40    Logan           1  0xf5c7e6e87fd7C8818bAE1730f2a6fe68fAd56cbd   \n",
       "\n",
       "                 expiry  \n",
       "16  2020-09-28 07:23:00  \n",
       "7   2020-09-28 21:07:00  \n",
       "31  2020-10-08 06:53:00  \n",
       "83  2020-10-08 06:56:00  \n",
       "11  2020-10-08 07:01:00  \n",
       "39  2020-10-08 07:02:00  \n",
       "110 2020-10-08 07:02:00  \n",
       "114 2020-10-08 07:12:00  \n",
       "77  2020-10-14 09:57:00  \n",
       "67  2020-10-14 11:09:00  \n",
       "104 2020-10-14 14:47:00  \n",
       "112 2020-10-15 02:58:00  \n",
       "88  2020-10-15 19:53:00  \n",
       "4   2020-10-16 10:54:00  \n",
       "42  2020-10-16 11:56:00  \n",
       "49  2020-10-16 15:51:00  \n",
       "12  2020-10-16 18:49:00  \n",
       "1   2020-10-17 01:27:00  \n",
       "41  2020-10-17 01:29:00  \n",
       "40  2020-10-17 10:01:00  "
      ]
     },
     "execution_count": 30,
     "metadata": {},
     "output_type": "execute_result"
    }
   ],
   "source": [
    "df.head(20)"
   ]
  },
  {
   "cell_type": "markdown",
   "metadata": {},
   "source": [
    "# find names registered by the same registrant"
   ]
  },
  {
   "cell_type": "code",
   "execution_count": 31,
   "metadata": {
    "ExecuteTime": {
     "end_time": "2020-10-11T20:57:17.719288Z",
     "start_time": "2020-10-11T20:57:17.708973Z"
    }
   },
   "outputs": [
    {
     "data": {
      "text/plain": [
       "0xbb46bE602D82F3209B6392130B5BBd40D78df339    8\n",
       "0xDDd3964D75D59B6B6d5c31eB313BBA5EBF076364    6\n",
       "0xC3bAA0FA5f21Af0157548Bebf57028516Fca7a71    4\n",
       "0x34cd8a21E92b0Abd558Ff02D6cc7a9e12DAf0ff1    3\n",
       "0x0109731B26B26b33De264DcE92c8C7Aa882Da613    3\n",
       "                                             ..\n",
       "0x0A7EAEE9d588C0af4eAC758c3bd6b1E69e4d8f3B    1\n",
       "0xeF497ad6E16ebaFA40CDc6c4c46567F6AF1b8eB1    1\n",
       "0xdCf7226458Ec8785ea474334AF5fff25E90fA70e    1\n",
       "0x7be63f7FA3AFF559a5ea08f016CB822735C1241E    1\n",
       "0xDCFbBB93D840be4A1819Df0E8594e16E11Da7529    1\n",
       "Name: registrant, Length: 88, dtype: int64"
      ]
     },
     "execution_count": 31,
     "metadata": {},
     "output_type": "execute_result"
    }
   ],
   "source": [
    "df['registrant'].value_counts()"
   ]
  },
  {
   "cell_type": "code",
   "execution_count": null,
   "metadata": {},
   "outputs": [],
   "source": []
  }
 ],
 "metadata": {
  "kernelspec": {
   "display_name": "Python 3",
   "language": "python",
   "name": "python3"
  },
  "language_info": {
   "codemirror_mode": {
    "name": "ipython",
    "version": 3
   },
   "file_extension": ".py",
   "mimetype": "text/x-python",
   "name": "python",
   "nbconvert_exporter": "python",
   "pygments_lexer": "ipython3",
   "version": "3.7.7"
  },
  "varInspector": {
   "cols": {
    "lenName": 16,
    "lenType": 16,
    "lenVar": 40
   },
   "kernels_config": {
    "python": {
     "delete_cmd_postfix": "",
     "delete_cmd_prefix": "del ",
     "library": "var_list.py",
     "varRefreshCmd": "print(var_dic_list())"
    },
    "r": {
     "delete_cmd_postfix": ") ",
     "delete_cmd_prefix": "rm(",
     "library": "var_list.r",
     "varRefreshCmd": "cat(var_dic_list()) "
    }
   },
   "types_to_exclude": [
    "module",
    "function",
    "builtin_function_or_method",
    "instance",
    "_Feature"
   ],
   "window_display": false
  }
 },
 "nbformat": 4,
 "nbformat_minor": 4
}
