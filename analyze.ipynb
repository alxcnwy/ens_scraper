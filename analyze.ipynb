{
 "cells": [
  {
   "cell_type": "markdown",
   "metadata": {},
   "source": [
    "# Load and parse data"
   ]
  },
  {
   "cell_type": "code",
   "execution_count": 50,
   "metadata": {
    "ExecuteTime": {
     "end_time": "2020-10-13T16:22:09.490933Z",
     "start_time": "2020-10-13T16:22:09.485462Z"
    }
   },
   "outputs": [],
   "source": [
    "import os\n",
    "import pandas as pd\n",
    "import json"
   ]
  },
  {
   "cell_type": "code",
   "execution_count": 51,
   "metadata": {
    "ExecuteTime": {
     "end_time": "2020-10-13T16:22:09.698541Z",
     "start_time": "2020-10-13T16:22:09.683776Z"
    }
   },
   "outputs": [],
   "source": [
    "files = os.listdir('results')\n",
    "files = ['results/' + f for f in files if '.json' in f]"
   ]
  },
  {
   "cell_type": "code",
   "execution_count": 52,
   "metadata": {
    "ExecuteTime": {
     "end_time": "2020-10-13T16:22:10.759749Z",
     "start_time": "2020-10-13T16:22:09.867633Z"
    }
   },
   "outputs": [],
   "source": [
    "results = []\n",
    "for file in files:\n",
    "    with open(file) as f:\n",
    "        res = json.load(f)\n",
    "\n",
    "        expiry = res['expiry'].split(\" (\")[0].replace('.','/').replace(\" at\",\"\")\n",
    "        \n",
    "        parsed = {}\n",
    "        parsed['name'] = res['name']\n",
    "        parsed['registered'] = res['registered']\n",
    "        parsed['registrant'] = res['registrant']\n",
    "        parsed['expiry'] = expiry\n",
    "        \n",
    "        results.append(parsed)"
   ]
  },
  {
   "cell_type": "code",
   "execution_count": 53,
   "metadata": {
    "ExecuteTime": {
     "end_time": "2020-10-13T16:22:10.815294Z",
     "start_time": "2020-10-13T16:22:10.798659Z"
    }
   },
   "outputs": [
    {
     "data": {
      "text/html": [
       "<div>\n",
       "<style scoped>\n",
       "    .dataframe tbody tr th:only-of-type {\n",
       "        vertical-align: middle;\n",
       "    }\n",
       "\n",
       "    .dataframe tbody tr th {\n",
       "        vertical-align: top;\n",
       "    }\n",
       "\n",
       "    .dataframe thead th {\n",
       "        text-align: right;\n",
       "    }\n",
       "</style>\n",
       "<table border=\"1\" class=\"dataframe\">\n",
       "  <thead>\n",
       "    <tr style=\"text-align: right;\">\n",
       "      <th></th>\n",
       "      <th>name</th>\n",
       "      <th>registered</th>\n",
       "      <th>registrant</th>\n",
       "      <th>expiry</th>\n",
       "    </tr>\n",
       "  </thead>\n",
       "  <tbody>\n",
       "    <tr>\n",
       "      <th>0</th>\n",
       "      <td>Daleyza</td>\n",
       "      <td>0</td>\n",
       "      <td></td>\n",
       "      <td>NaT</td>\n",
       "    </tr>\n",
       "    <tr>\n",
       "      <th>1</th>\n",
       "      <td>Cohen</td>\n",
       "      <td>1</td>\n",
       "      <td>0x5952B320f1089162590F5D75ae7AC1A0f0fF55E9</td>\n",
       "      <td>2020-10-14 13:28:00</td>\n",
       "    </tr>\n",
       "    <tr>\n",
       "      <th>2</th>\n",
       "      <td>Isabelle</td>\n",
       "      <td>1</td>\n",
       "      <td>0x31cA2fb50F36C8AB18dA0978A8c8825353a15dc2</td>\n",
       "      <td>2021-05-04 07:49:00</td>\n",
       "    </tr>\n",
       "    <tr>\n",
       "      <th>3</th>\n",
       "      <td>Hazel</td>\n",
       "      <td>1</td>\n",
       "      <td>0xE2FaA63f2351c6F2b88659f2fFfC2167172D329a</td>\n",
       "      <td>2020-10-15 06:18:00</td>\n",
       "    </tr>\n",
       "    <tr>\n",
       "      <th>4</th>\n",
       "      <td>Emmalyn</td>\n",
       "      <td>0</td>\n",
       "      <td></td>\n",
       "      <td>NaT</td>\n",
       "    </tr>\n",
       "  </tbody>\n",
       "</table>\n",
       "</div>"
      ],
      "text/plain": [
       "       name  registered                                  registrant  \\\n",
       "0   Daleyza           0                                               \n",
       "1     Cohen           1  0x5952B320f1089162590F5D75ae7AC1A0f0fF55E9   \n",
       "2  Isabelle           1  0x31cA2fb50F36C8AB18dA0978A8c8825353a15dc2   \n",
       "3     Hazel           1  0xE2FaA63f2351c6F2b88659f2fFfC2167172D329a   \n",
       "4   Emmalyn           0                                               \n",
       "\n",
       "               expiry  \n",
       "0                 NaT  \n",
       "1 2020-10-14 13:28:00  \n",
       "2 2021-05-04 07:49:00  \n",
       "3 2020-10-15 06:18:00  \n",
       "4                 NaT  "
      ]
     },
     "execution_count": 53,
     "metadata": {},
     "output_type": "execute_result"
    }
   ],
   "source": [
    "df = pd.DataFrame(results)\n",
    "df['expiry'] = pd.to_datetime(df['expiry'])\n",
    "df.head()"
   ]
  },
  {
   "cell_type": "code",
   "execution_count": 54,
   "metadata": {
    "ExecuteTime": {
     "end_time": "2020-10-13T16:22:10.860261Z",
     "start_time": "2020-10-13T16:22:10.853350Z"
    }
   },
   "outputs": [],
   "source": [
    "df.sort_values('expiry', ascending=True, inplace=True)"
   ]
  },
  {
   "cell_type": "markdown",
   "metadata": {},
   "source": [
    "# find unregistered names"
   ]
  },
  {
   "cell_type": "code",
   "execution_count": 55,
   "metadata": {
    "ExecuteTime": {
     "end_time": "2020-10-13T16:22:11.088929Z",
     "start_time": "2020-10-13T16:22:11.068409Z"
    }
   },
   "outputs": [
    {
     "data": {
      "text/html": [
       "<div>\n",
       "<style scoped>\n",
       "    .dataframe tbody tr th:only-of-type {\n",
       "        vertical-align: middle;\n",
       "    }\n",
       "\n",
       "    .dataframe tbody tr th {\n",
       "        vertical-align: top;\n",
       "    }\n",
       "\n",
       "    .dataframe thead th {\n",
       "        text-align: right;\n",
       "    }\n",
       "</style>\n",
       "<table border=\"1\" class=\"dataframe\">\n",
       "  <thead>\n",
       "    <tr style=\"text-align: right;\">\n",
       "      <th></th>\n",
       "      <th>name</th>\n",
       "      <th>registered</th>\n",
       "      <th>registrant</th>\n",
       "      <th>expiry</th>\n",
       "    </tr>\n",
       "  </thead>\n",
       "  <tbody>\n",
       "    <tr>\n",
       "      <th>0</th>\n",
       "      <td>Daleyza</td>\n",
       "      <td>0</td>\n",
       "      <td></td>\n",
       "      <td>NaT</td>\n",
       "    </tr>\n",
       "    <tr>\n",
       "      <th>4</th>\n",
       "      <td>Emmalyn</td>\n",
       "      <td>0</td>\n",
       "      <td></td>\n",
       "      <td>NaT</td>\n",
       "    </tr>\n",
       "    <tr>\n",
       "      <th>12</th>\n",
       "      <td>Kaliyah</td>\n",
       "      <td>0</td>\n",
       "      <td></td>\n",
       "      <td>NaT</td>\n",
       "    </tr>\n",
       "    <tr>\n",
       "      <th>17</th>\n",
       "      <td>Aubrie</td>\n",
       "      <td>0</td>\n",
       "      <td></td>\n",
       "      <td>NaT</td>\n",
       "    </tr>\n",
       "    <tr>\n",
       "      <th>24</th>\n",
       "      <td>Karlee</td>\n",
       "      <td>0</td>\n",
       "      <td></td>\n",
       "      <td>NaT</td>\n",
       "    </tr>\n",
       "    <tr>\n",
       "      <th>...</th>\n",
       "      <td>...</td>\n",
       "      <td>...</td>\n",
       "      <td>...</td>\n",
       "      <td>...</td>\n",
       "    </tr>\n",
       "    <tr>\n",
       "      <th>1903</th>\n",
       "      <td>Nina</td>\n",
       "      <td>0</td>\n",
       "      <td></td>\n",
       "      <td>NaT</td>\n",
       "    </tr>\n",
       "    <tr>\n",
       "      <th>1904</th>\n",
       "      <td>Konnor</td>\n",
       "      <td>0</td>\n",
       "      <td></td>\n",
       "      <td>NaT</td>\n",
       "    </tr>\n",
       "    <tr>\n",
       "      <th>1905</th>\n",
       "      <td>Adaline</td>\n",
       "      <td>0</td>\n",
       "      <td></td>\n",
       "      <td>NaT</td>\n",
       "    </tr>\n",
       "    <tr>\n",
       "      <th>1913</th>\n",
       "      <td>Greysen</td>\n",
       "      <td>0</td>\n",
       "      <td></td>\n",
       "      <td>NaT</td>\n",
       "    </tr>\n",
       "    <tr>\n",
       "      <th>1915</th>\n",
       "      <td>Ariella</td>\n",
       "      <td>0</td>\n",
       "      <td></td>\n",
       "      <td>NaT</td>\n",
       "    </tr>\n",
       "  </tbody>\n",
       "</table>\n",
       "<p>613 rows × 4 columns</p>\n",
       "</div>"
      ],
      "text/plain": [
       "         name  registered registrant expiry\n",
       "0     Daleyza           0               NaT\n",
       "4     Emmalyn           0               NaT\n",
       "12    Kaliyah           0               NaT\n",
       "17     Aubrie           0               NaT\n",
       "24     Karlee           0               NaT\n",
       "...       ...         ...        ...    ...\n",
       "1903     Nina           0               NaT\n",
       "1904   Konnor           0               NaT\n",
       "1905  Adaline           0               NaT\n",
       "1913  Greysen           0               NaT\n",
       "1915  Ariella           0               NaT\n",
       "\n",
       "[613 rows x 4 columns]"
      ]
     },
     "execution_count": 55,
     "metadata": {},
     "output_type": "execute_result"
    }
   ],
   "source": [
    "df[df['registrant'] == '']"
   ]
  },
  {
   "cell_type": "markdown",
   "metadata": {},
   "source": [
    "# find domains expiring soon"
   ]
  },
  {
   "cell_type": "code",
   "execution_count": 56,
   "metadata": {
    "ExecuteTime": {
     "end_time": "2020-10-13T16:22:11.955759Z",
     "start_time": "2020-10-13T16:22:11.936941Z"
    }
   },
   "outputs": [
    {
     "data": {
      "text/html": [
       "<div>\n",
       "<style scoped>\n",
       "    .dataframe tbody tr th:only-of-type {\n",
       "        vertical-align: middle;\n",
       "    }\n",
       "\n",
       "    .dataframe tbody tr th {\n",
       "        vertical-align: top;\n",
       "    }\n",
       "\n",
       "    .dataframe thead th {\n",
       "        text-align: right;\n",
       "    }\n",
       "</style>\n",
       "<table border=\"1\" class=\"dataframe\">\n",
       "  <thead>\n",
       "    <tr style=\"text-align: right;\">\n",
       "      <th></th>\n",
       "      <th>name</th>\n",
       "      <th>registered</th>\n",
       "      <th>registrant</th>\n",
       "      <th>expiry</th>\n",
       "    </tr>\n",
       "  </thead>\n",
       "  <tbody>\n",
       "    <tr>\n",
       "      <th>1440</th>\n",
       "      <td>Raiden</td>\n",
       "      <td>1</td>\n",
       "      <td>0x773c249cC8Dd02fCe180FF066823312E448c6413</td>\n",
       "      <td>2020-08-25 13:13:00</td>\n",
       "    </tr>\n",
       "    <tr>\n",
       "      <th>1636</th>\n",
       "      <td>Ariadne</td>\n",
       "      <td>1</td>\n",
       "      <td>0x47bc38e3b42A4657a0344D0D31fC7a71A32aB95a</td>\n",
       "      <td>2020-09-06 05:17:00</td>\n",
       "    </tr>\n",
       "    <tr>\n",
       "      <th>210</th>\n",
       "      <td>Tyler</td>\n",
       "      <td>1</td>\n",
       "      <td>0x909969fB07D0B5683bF7d6EB93928Bd8116Eee00</td>\n",
       "      <td>2020-09-28 07:23:00</td>\n",
       "    </tr>\n",
       "    <tr>\n",
       "      <th>1902</th>\n",
       "      <td>Danny</td>\n",
       "      <td>1</td>\n",
       "      <td>0x836FE1A2277e1ACf808391e2Edc47C16EA3c1505</td>\n",
       "      <td>2020-09-28 07:55:00</td>\n",
       "    </tr>\n",
       "    <tr>\n",
       "      <th>386</th>\n",
       "      <td>Amber</td>\n",
       "      <td>1</td>\n",
       "      <td>0x60703BbcD823F052Ab9217f7353dAD15c9a0C5DF</td>\n",
       "      <td>2020-09-28 07:56:00</td>\n",
       "    </tr>\n",
       "    <tr>\n",
       "      <th>1769</th>\n",
       "      <td>Israel</td>\n",
       "      <td>1</td>\n",
       "      <td>0xce7C9C3bDd93D81A356B757f074b205D95C3d85F</td>\n",
       "      <td>2020-09-28 09:49:00</td>\n",
       "    </tr>\n",
       "    <tr>\n",
       "      <th>1775</th>\n",
       "      <td>Violet</td>\n",
       "      <td>1</td>\n",
       "      <td>0xE2FaA63f2351c6F2b88659f2fFfC2167172D329a</td>\n",
       "      <td>2020-09-28 20:06:00</td>\n",
       "    </tr>\n",
       "    <tr>\n",
       "      <th>1659</th>\n",
       "      <td>Hayes</td>\n",
       "      <td>1</td>\n",
       "      <td>0x00Bec19a4149eC55AB8582Ac7914b5a928A6e8F8</td>\n",
       "      <td>2020-09-28 20:08:00</td>\n",
       "    </tr>\n",
       "    <tr>\n",
       "      <th>1012</th>\n",
       "      <td>Brett</td>\n",
       "      <td>1</td>\n",
       "      <td>0x9A2b809461f7F90e55619b8068Df0AF8eAE5c456</td>\n",
       "      <td>2020-09-28 20:26:00</td>\n",
       "    </tr>\n",
       "    <tr>\n",
       "      <th>1583</th>\n",
       "      <td>Willow</td>\n",
       "      <td>1</td>\n",
       "      <td>0xE2FaA63f2351c6F2b88659f2fFfC2167172D329a</td>\n",
       "      <td>2020-09-28 20:28:00</td>\n",
       "    </tr>\n",
       "    <tr>\n",
       "      <th>1371</th>\n",
       "      <td>Randy</td>\n",
       "      <td>1</td>\n",
       "      <td>0xFaC7BEA255a6990f749363002136aF6556b31e04</td>\n",
       "      <td>2020-09-28 20:29:00</td>\n",
       "    </tr>\n",
       "    <tr>\n",
       "      <th>15</th>\n",
       "      <td>Olive</td>\n",
       "      <td>1</td>\n",
       "      <td>0xE2FaA63f2351c6F2b88659f2fFfC2167172D329a</td>\n",
       "      <td>2020-09-28 20:29:00</td>\n",
       "    </tr>\n",
       "    <tr>\n",
       "      <th>5</th>\n",
       "      <td>Rashad</td>\n",
       "      <td>1</td>\n",
       "      <td>0x6dc0cf660b64440C006529b788261786A6D49047</td>\n",
       "      <td>2020-09-28 20:29:00</td>\n",
       "    </tr>\n",
       "    <tr>\n",
       "      <th>1663</th>\n",
       "      <td>Blaze</td>\n",
       "      <td>1</td>\n",
       "      <td>0xB823dc506011EEdab6F8feECc88806dBFc55Ea93</td>\n",
       "      <td>2020-09-28 20:33:00</td>\n",
       "    </tr>\n",
       "    <tr>\n",
       "      <th>1250</th>\n",
       "      <td>Wayne</td>\n",
       "      <td>1</td>\n",
       "      <td>0xbD82D0A4DB4Af53F7a33fc6CF22b2CDD17cB457F</td>\n",
       "      <td>2020-09-28 20:46:00</td>\n",
       "    </tr>\n",
       "    <tr>\n",
       "      <th>211</th>\n",
       "      <td>Maximo</td>\n",
       "      <td>1</td>\n",
       "      <td>0xd3811cDb7901e176d1BE557ea17B75B0CE1260c3</td>\n",
       "      <td>2020-09-28 20:49:00</td>\n",
       "    </tr>\n",
       "    <tr>\n",
       "      <th>129</th>\n",
       "      <td>Mateo</td>\n",
       "      <td>1</td>\n",
       "      <td>0xAd11b98Cb4DA457be6aa324f0C4beC9f791fB3CE</td>\n",
       "      <td>2020-09-28 21:07:00</td>\n",
       "    </tr>\n",
       "    <tr>\n",
       "      <th>660</th>\n",
       "      <td>Grace</td>\n",
       "      <td>1</td>\n",
       "      <td>0xE2FaA63f2351c6F2b88659f2fFfC2167172D329a</td>\n",
       "      <td>2020-09-28 21:16:00</td>\n",
       "    </tr>\n",
       "    <tr>\n",
       "      <th>193</th>\n",
       "      <td>Daisy</td>\n",
       "      <td>1</td>\n",
       "      <td>0x7A498e3a3f42a07D38d235df58a47c21A200c2B9</td>\n",
       "      <td>2020-09-28 21:18:00</td>\n",
       "    </tr>\n",
       "    <tr>\n",
       "      <th>991</th>\n",
       "      <td>Bailey</td>\n",
       "      <td>1</td>\n",
       "      <td>0xdadf0F3F4391B1210a35268463D7914aB9eBD4c1</td>\n",
       "      <td>2020-09-28 21:27:00</td>\n",
       "    </tr>\n",
       "  </tbody>\n",
       "</table>\n",
       "</div>"
      ],
      "text/plain": [
       "         name  registered                                  registrant  \\\n",
       "1440   Raiden           1  0x773c249cC8Dd02fCe180FF066823312E448c6413   \n",
       "1636  Ariadne           1  0x47bc38e3b42A4657a0344D0D31fC7a71A32aB95a   \n",
       "210     Tyler           1  0x909969fB07D0B5683bF7d6EB93928Bd8116Eee00   \n",
       "1902    Danny           1  0x836FE1A2277e1ACf808391e2Edc47C16EA3c1505   \n",
       "386     Amber           1  0x60703BbcD823F052Ab9217f7353dAD15c9a0C5DF   \n",
       "1769   Israel           1  0xce7C9C3bDd93D81A356B757f074b205D95C3d85F   \n",
       "1775   Violet           1  0xE2FaA63f2351c6F2b88659f2fFfC2167172D329a   \n",
       "1659    Hayes           1  0x00Bec19a4149eC55AB8582Ac7914b5a928A6e8F8   \n",
       "1012    Brett           1  0x9A2b809461f7F90e55619b8068Df0AF8eAE5c456   \n",
       "1583   Willow           1  0xE2FaA63f2351c6F2b88659f2fFfC2167172D329a   \n",
       "1371    Randy           1  0xFaC7BEA255a6990f749363002136aF6556b31e04   \n",
       "15      Olive           1  0xE2FaA63f2351c6F2b88659f2fFfC2167172D329a   \n",
       "5      Rashad           1  0x6dc0cf660b64440C006529b788261786A6D49047   \n",
       "1663    Blaze           1  0xB823dc506011EEdab6F8feECc88806dBFc55Ea93   \n",
       "1250    Wayne           1  0xbD82D0A4DB4Af53F7a33fc6CF22b2CDD17cB457F   \n",
       "211    Maximo           1  0xd3811cDb7901e176d1BE557ea17B75B0CE1260c3   \n",
       "129     Mateo           1  0xAd11b98Cb4DA457be6aa324f0C4beC9f791fB3CE   \n",
       "660     Grace           1  0xE2FaA63f2351c6F2b88659f2fFfC2167172D329a   \n",
       "193     Daisy           1  0x7A498e3a3f42a07D38d235df58a47c21A200c2B9   \n",
       "991    Bailey           1  0xdadf0F3F4391B1210a35268463D7914aB9eBD4c1   \n",
       "\n",
       "                  expiry  \n",
       "1440 2020-08-25 13:13:00  \n",
       "1636 2020-09-06 05:17:00  \n",
       "210  2020-09-28 07:23:00  \n",
       "1902 2020-09-28 07:55:00  \n",
       "386  2020-09-28 07:56:00  \n",
       "1769 2020-09-28 09:49:00  \n",
       "1775 2020-09-28 20:06:00  \n",
       "1659 2020-09-28 20:08:00  \n",
       "1012 2020-09-28 20:26:00  \n",
       "1583 2020-09-28 20:28:00  \n",
       "1371 2020-09-28 20:29:00  \n",
       "15   2020-09-28 20:29:00  \n",
       "5    2020-09-28 20:29:00  \n",
       "1663 2020-09-28 20:33:00  \n",
       "1250 2020-09-28 20:46:00  \n",
       "211  2020-09-28 20:49:00  \n",
       "129  2020-09-28 21:07:00  \n",
       "660  2020-09-28 21:16:00  \n",
       "193  2020-09-28 21:18:00  \n",
       "991  2020-09-28 21:27:00  "
      ]
     },
     "execution_count": 56,
     "metadata": {},
     "output_type": "execute_result"
    }
   ],
   "source": [
    "df.head(20)"
   ]
  },
  {
   "cell_type": "markdown",
   "metadata": {},
   "source": [
    "# find names registered by the same registrant"
   ]
  },
  {
   "cell_type": "code",
   "execution_count": 57,
   "metadata": {
    "ExecuteTime": {
     "end_time": "2020-10-13T16:22:12.754789Z",
     "start_time": "2020-10-13T16:22:12.744841Z"
    }
   },
   "outputs": [
    {
     "data": {
      "text/plain": [
       "                                              613\n",
       "0xbb46bE602D82F3209B6392130B5BBd40D78df339     93\n",
       "0xDDd3964D75D59B6B6d5c31eB313BBA5EBF076364     69\n",
       "0x56609a8e0601B9aFAbC90923bF20DF0523993cA6     58\n",
       "0xFA894794fac19fFC7944ca8dd1E301662Be94196     41\n",
       "                                             ... \n",
       "0xC67A27E0CF079455dB41BA9e285249C735A14d02      1\n",
       "0x13ea35Aa6ffA1D418153Fee57f550810483a035d      1\n",
       "0x22AD0012040baF64f5af6d2D3F94d98A01137A9b      1\n",
       "0xab1DC4B2EEEEcC9D98cA8cC5e96847a0b79Cd24c      1\n",
       "0x8C05faE8145b7Ae60Ae81bCC2Ef44843645F9495      1\n",
       "Name: registrant, Length: 459, dtype: int64"
      ]
     },
     "execution_count": 57,
     "metadata": {},
     "output_type": "execute_result"
    }
   ],
   "source": [
    "df['registrant'].value_counts()"
   ]
  },
  {
   "cell_type": "markdown",
   "metadata": {},
   "source": [
    "# Write CSV output"
   ]
  },
  {
   "cell_type": "code",
   "execution_count": 59,
   "metadata": {
    "ExecuteTime": {
     "end_time": "2020-10-13T16:22:23.953861Z",
     "start_time": "2020-10-13T16:22:23.950610Z"
    }
   },
   "outputs": [],
   "source": [
    "import datetime"
   ]
  },
  {
   "cell_type": "code",
   "execution_count": 66,
   "metadata": {
    "ExecuteTime": {
     "end_time": "2020-10-13T16:28:19.623913Z",
     "start_time": "2020-10-13T16:28:19.617570Z"
    }
   },
   "outputs": [],
   "source": [
    "df.sort_values(\"name\", inplace=True)"
   ]
  },
  {
   "cell_type": "code",
   "execution_count": 69,
   "metadata": {
    "ExecuteTime": {
     "end_time": "2020-10-13T16:28:42.183487Z",
     "start_time": "2020-10-13T16:28:42.177980Z"
    }
   },
   "outputs": [
    {
     "data": {
      "text/plain": [
       "'results_2020-10-13 18-28-42.csv'"
      ]
     },
     "execution_count": 69,
     "metadata": {},
     "output_type": "execute_result"
    }
   ],
   "source": [
    "filename = \"results_\" + str(datetime.datetime.now()).split('.')[0] + '.csv'\n",
    "filename = filename.replace(':','-')"
   ]
  },
  {
   "cell_type": "code",
   "execution_count": 70,
   "metadata": {
    "ExecuteTime": {
     "end_time": "2020-10-13T16:28:45.851270Z",
     "start_time": "2020-10-13T16:28:45.836718Z"
    }
   },
   "outputs": [],
   "source": [
    "df.to_csv(filename)"
   ]
  },
  {
   "cell_type": "code",
   "execution_count": null,
   "metadata": {},
   "outputs": [],
   "source": []
  }
 ],
 "metadata": {
  "kernelspec": {
   "display_name": "Python 3",
   "language": "python",
   "name": "python3"
  },
  "language_info": {
   "codemirror_mode": {
    "name": "ipython",
    "version": 3
   },
   "file_extension": ".py",
   "mimetype": "text/x-python",
   "name": "python",
   "nbconvert_exporter": "python",
   "pygments_lexer": "ipython3",
   "version": "3.7.7"
  },
  "varInspector": {
   "cols": {
    "lenName": 16,
    "lenType": 16,
    "lenVar": 40
   },
   "kernels_config": {
    "python": {
     "delete_cmd_postfix": "",
     "delete_cmd_prefix": "del ",
     "library": "var_list.py",
     "varRefreshCmd": "print(var_dic_list())"
    },
    "r": {
     "delete_cmd_postfix": ") ",
     "delete_cmd_prefix": "rm(",
     "library": "var_list.r",
     "varRefreshCmd": "cat(var_dic_list()) "
    }
   },
   "types_to_exclude": [
    "module",
    "function",
    "builtin_function_or_method",
    "instance",
    "_Feature"
   ],
   "window_display": false
  }
 },
 "nbformat": 4,
 "nbformat_minor": 4
}
