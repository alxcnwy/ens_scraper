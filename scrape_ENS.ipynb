{
 "cells": [
  {
   "cell_type": "code",
   "execution_count": 8,
   "metadata": {
    "ExecuteTime": {
     "end_time": "2020-10-11T16:33:09.892014Z",
     "start_time": "2020-10-11T16:33:09.886875Z"
    }
   },
   "outputs": [],
   "source": [
    "import os\n",
    "import json\n",
    "import datetime\n",
    "import pandas as pd"
   ]
  },
  {
   "cell_type": "code",
   "execution_count": 9,
   "metadata": {
    "ExecuteTime": {
     "end_time": "2020-10-11T16:33:10.247612Z",
     "start_time": "2020-10-11T16:33:10.128904Z"
    }
   },
   "outputs": [],
   "source": [
    "import time\n",
    "from selenium.webdriver import Chrome\n",
    "from selenium.webdriver.common.by import By"
   ]
  },
  {
   "cell_type": "code",
   "execution_count": 10,
   "metadata": {
    "ExecuteTime": {
     "end_time": "2020-10-11T16:33:10.346722Z",
     "start_time": "2020-10-11T16:33:10.332420Z"
    }
   },
   "outputs": [],
   "source": [
    "# load names downloaded from: \n",
    "# https://family.disney.com/articles/1000-most-popular-girl-names/ \n",
    "# https://family.disney.com/articles/1000-most-popular-boy-names/\n",
    "with open('names.txt') as f:\n",
    "    names = f.readlines()\n",
    "names = [n.replace('\\n','') for n in names]\n",
    "df = pd.DataFrame(names)\n",
    "df.columns = ['name']\n",
    "names = df['name'].unique().tolist()"
   ]
  },
  {
   "cell_type": "code",
   "execution_count": 11,
   "metadata": {
    "ExecuteTime": {
     "end_time": "2020-10-11T16:33:10.705706Z",
     "start_time": "2020-10-11T16:33:10.700041Z"
    }
   },
   "outputs": [],
   "source": [
    "if not os.path.exists('results'):\n",
    "    os.makedirs('results')"
   ]
  },
  {
   "cell_type": "code",
   "execution_count": null,
   "metadata": {
    "ExecuteTime": {
     "start_time": "2020-10-11T18:55:49.678Z"
    }
   },
   "outputs": [
    {
     "name": "stdout",
     "output_type": "stream",
     "text": [
      "Begin checking Eli\n",
      "54/1921 Checking: Eli\n",
      "list index out of range\n",
      "Eli available\n",
      "Begin checking Jonathan\n",
      "55/1921 Checking: Jonathan\n",
      "Jonathan registered, expiry 2025.05.04 at 07:06 (UTC+02:00)\n",
      "Begin checking Connor\n",
      "56/1921 Checking: Connor\n",
      "RATE LIMITED  invalid response - 429\n"
     ]
    }
   ],
   "source": [
    "# init browser\n",
    "browser = Chrome(executable_path='/usr/local/bin/chromedriver')\n",
    "\n",
    "run = True\n",
    "while run:\n",
    "    \n",
    "    # get updated list of names done\n",
    "    names_done = os.listdir('results')\n",
    "    names_done = [n.replace('.json','') for n in names_done if n != '.DS_Store']\n",
    "    \n",
    "    # check if name already done\n",
    "    name = ''\n",
    "    for i, name in enumerate(names):\n",
    "        if name in names_done:\n",
    "            pass\n",
    "        else:\n",
    "            break\n",
    "            \n",
    "    if len(names) == len(names_done):\n",
    "        break\n",
    "            \n",
    "    print(f\"Begin checking {name}\")\n",
    "            \n",
    "    if not os.path.exists('results/' + name + '.json'):\n",
    "\n",
    "        print(f'{i+1}/{len(names)} Checking: {name}')\n",
    "\n",
    "        # check if page already loaded\n",
    "        loaded = False\n",
    "        try:\n",
    "            el = browser.find_element(By.XPATH, '/html/body/div[1]/div/main/div/div[1]/h2')\n",
    "            if el.text.split(\".eth\")[0] == name.lower():\n",
    "                loaded = True\n",
    "        except:\n",
    "            pass\n",
    "        if not loaded:\n",
    "            browser.get('https://app.ens.domains/name/' + name + '.eth')\n",
    "            time.sleep(30)\n",
    "        \n",
    "        \n",
    "        # check if we're getting rate limited\n",
    "        ratelimited = False\n",
    "        try:\n",
    "            el = browser.find_element(By.XPATH, '/html/body/div[1]/div/div/h2')\n",
    "            print('RATE LIMITED ', el.text)\n",
    "            ratelimited = True\n",
    "            time.sleep(30)\n",
    "            browser.get('https://app.ens.domains/name/' + name + '.eth')\n",
    "            time.sleep(15)\n",
    "        except:\n",
    "            pass\n",
    "        \n",
    "        \n",
    "        # check if domain is registered\n",
    "        try:            \n",
    "            # get data\n",
    "            els = browser.find_elements_by_class_name(\"em9ajyt7\");\n",
    "            registrant = els[0].text\n",
    "            expiry = els[2].text\n",
    "\n",
    "            result = {}\n",
    "            result['name'] = name\n",
    "            result['registered'] = 1\n",
    "            result['expiry'] = expiry\n",
    "            result['registrant'] = registrant\n",
    "\n",
    "            # save result\n",
    "            with open('results/' + name + '.json', 'w') as f:\n",
    "                json.dump(result, f)\n",
    "\n",
    "            print(f'{name} registered, expiry {expiry}')\n",
    "\n",
    "        except Exception as e:\n",
    "            print(e)\n",
    "            try:\n",
    "                # check if seeing page to register the name\n",
    "                if \"Registering a name requires you to complete\" in browser.page_source:\n",
    "                    result = {}\n",
    "                    result['name'] = name\n",
    "                    result['registered'] = 0\n",
    "                    result['expiry'] = ''\n",
    "                    result['registrant'] = ''\n",
    "\n",
    "                    # save result\n",
    "                    with open('results/' + name + '.json', 'w') as f:\n",
    "                        json.dump(result, f)\n",
    "\n",
    "                    print(f'{name} available')\n",
    "                else:\n",
    "                    time.sleep(30)\n",
    "                \n",
    "            except:\n",
    "                print(\"ERROR - Page not registered and not available - sleeping 30 seconds and trying again\")\n",
    "                time.sleep(30)\n",
    "                pass"
   ]
  },
  {
   "cell_type": "code",
   "execution_count": null,
   "metadata": {},
   "outputs": [],
   "source": []
  }
 ],
 "metadata": {
  "kernelspec": {
   "display_name": "Python 3",
   "language": "python",
   "name": "python3"
  },
  "language_info": {
   "codemirror_mode": {
    "name": "ipython",
    "version": 3
   },
   "file_extension": ".py",
   "mimetype": "text/x-python",
   "name": "python",
   "nbconvert_exporter": "python",
   "pygments_lexer": "ipython3",
   "version": "3.7.7"
  },
  "varInspector": {
   "cols": {
    "lenName": 16,
    "lenType": 16,
    "lenVar": 40
   },
   "kernels_config": {
    "python": {
     "delete_cmd_postfix": "",
     "delete_cmd_prefix": "del ",
     "library": "var_list.py",
     "varRefreshCmd": "print(var_dic_list())"
    },
    "r": {
     "delete_cmd_postfix": ") ",
     "delete_cmd_prefix": "rm(",
     "library": "var_list.r",
     "varRefreshCmd": "cat(var_dic_list()) "
    }
   },
   "types_to_exclude": [
    "module",
    "function",
    "builtin_function_or_method",
    "instance",
    "_Feature"
   ],
   "window_display": false
  }
 },
 "nbformat": 4,
 "nbformat_minor": 4
}
