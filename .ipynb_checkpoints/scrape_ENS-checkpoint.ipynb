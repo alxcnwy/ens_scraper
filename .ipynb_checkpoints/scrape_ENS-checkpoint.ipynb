{
 "cells": [
  {
   "cell_type": "code",
   "execution_count": null,
   "metadata": {
    "ExecuteTime": {
     "end_time": "2020-10-11T13:39:48.026388Z",
     "start_time": "2020-10-11T13:39:46.754188Z"
    }
   },
   "outputs": [],
   "source": [
    "import datetime\n",
    "import pandas as pd"
   ]
  },
  {
   "cell_type": "code",
   "execution_count": null,
   "metadata": {
    "ExecuteTime": {
     "end_time": "2020-10-11T13:52:43.003378Z",
     "start_time": "2020-10-11T13:52:40.659041Z"
    }
   },
   "outputs": [],
   "source": [
    "import time\n",
    "from selenium.webdriver import Chrome\n",
    "from selenium.webdriver.common.by import By\n",
    "\n",
    "# init browser\n",
    "browser = Chrome(executable_path='/usr/local/bin/chromedriver')"
   ]
  },
  {
   "cell_type": "code",
   "execution_count": null,
   "metadata": {
    "ExecuteTime": {
     "end_time": "2020-10-11T13:52:45.783940Z",
     "start_time": "2020-10-11T13:52:45.775041Z"
    }
   },
   "outputs": [],
   "source": [
    "# load names downloaded from https://family.disney.com/articles/1000-most-popular-girl-names/ + https://family.disney.com/articles/1000-most-popular-boy-names/\n",
    "with open('names.txt') as f:\n",
    "    names = f.readlines()\n",
    "names = [n.replace('\\n','') for n in names]\n",
    "df = pd.DataFrame(names)\n",
    "df.columns = ['name']\n",
    "names = df['name'].unique().tolist()"
   ]
  },
  {
   "cell_type": "code",
   "execution_count": null,
   "metadata": {
    "ExecuteTime": {
     "end_time": "2020-10-11T13:53:43.754771Z",
     "start_time": "2020-10-11T13:52:50.068706Z"
    }
   },
   "outputs": [],
   "source": [
    "results = {}\n",
    "for i, name in enumerate(names):\n",
    "    print(f'{i+1}/{len(names)} Checking: {name}')\n",
    "\n",
    "    browser.get('https://app.ens.domains/name/' + name + '.eth')\n",
    "    time.sleep(30)\n",
    "\n",
    "    try:\n",
    "        el = browser.find_element(By.XPATH, '/html/body/div[1]/div/main/div/section/div[2]/div[1]/div/div[1]')\n",
    "        results[name] = 1\n",
    "        print(f'{name} registered')\n",
    "    except:\n",
    "        results[name] = 0\n",
    "        print(f'{name} available')\n",
    "\n",
    "    # write output\n",
    "    df = pd.DataFrame.from_dict(results, orient='index')\n",
    "    df.columns = ['registered']\n",
    "    df.to_csv('results.csv')"
   ]
  }
 ],
 "metadata": {
  "kernelspec": {
   "display_name": "Python 3",
   "language": "python",
   "name": "python3"
  },
  "language_info": {
   "codemirror_mode": {
    "name": "ipython",
    "version": 3
   },
   "file_extension": ".py",
   "mimetype": "text/x-python",
   "name": "python",
   "nbconvert_exporter": "python",
   "pygments_lexer": "ipython3",
   "version": "3.7.7"
  },
  "varInspector": {
   "cols": {
    "lenName": 16,
    "lenType": 16,
    "lenVar": 40
   },
   "kernels_config": {
    "python": {
     "delete_cmd_postfix": "",
     "delete_cmd_prefix": "del ",
     "library": "var_list.py",
     "varRefreshCmd": "print(var_dic_list())"
    },
    "r": {
     "delete_cmd_postfix": ") ",
     "delete_cmd_prefix": "rm(",
     "library": "var_list.r",
     "varRefreshCmd": "cat(var_dic_list()) "
    }
   },
   "types_to_exclude": [
    "module",
    "function",
    "builtin_function_or_method",
    "instance",
    "_Feature"
   ],
   "window_display": false
  }
 },
 "nbformat": 4,
 "nbformat_minor": 4
}
