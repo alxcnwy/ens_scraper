{
 "cells": [
  {
   "cell_type": "code",
   "execution_count": null,
   "metadata": {
    "ExecuteTime": {
     "end_time": "2020-10-11T13:39:48.026388Z",
     "start_time": "2020-10-11T13:39:46.754188Z"
    }
   },
   "outputs": [],
   "source": [
    "import datetime\n",
    "import pandas as pd"
   ]
  },
  {
   "cell_type": "code",
   "execution_count": 53,
   "metadata": {
    "ExecuteTime": {
     "end_time": "2020-10-11T14:08:58.216522Z",
     "start_time": "2020-10-11T14:08:55.724871Z"
    }
   },
   "outputs": [],
   "source": [
    "import time\n",
    "from selenium.webdriver import Chrome\n",
    "from selenium.webdriver.common.by import By"
   ]
  },
  {
   "cell_type": "code",
   "execution_count": 56,
   "metadata": {
    "ExecuteTime": {
     "end_time": "2020-10-11T14:09:18.259362Z",
     "start_time": "2020-10-11T14:09:18.231307Z"
    }
   },
   "outputs": [],
   "source": [
    "# load names downloaded from https://family.disney.com/articles/1000-most-popular-girl-names/ + https://family.disney.com/articles/1000-most-popular-boy-names/\n",
    "with open('names.txt') as f:\n",
    "    names = f.readlines()\n",
    "names = [n.replace('\\n','') for n in names]\n",
    "df = pd.DataFrame(names)\n",
    "df.columns = ['name']\n",
    "names = df['name'].unique().tolist()"
   ]
  },
  {
   "cell_type": "code",
   "execution_count": 59,
   "metadata": {
    "ExecuteTime": {
     "end_time": "2020-10-11T14:18:06.045007Z",
     "start_time": "2020-10-11T14:18:03.601023Z"
    }
   },
   "outputs": [],
   "source": [
    "# init browser\n",
    "browser = Chrome(executable_path='/usr/local/bin/chromedriver')"
   ]
  },
  {
   "cell_type": "code",
   "execution_count": 60,
   "metadata": {
    "ExecuteTime": {
     "end_time": "2020-10-11T14:18:15.855609Z",
     "start_time": "2020-10-11T14:18:09.605281Z"
    }
   },
   "outputs": [],
   "source": [
    "browser.get('https://app.ens.domains/name/' + name + '.eth')"
   ]
  },
  {
   "cell_type": "code",
   "execution_count": 61,
   "metadata": {
    "ExecuteTime": {
     "end_time": "2020-10-11T14:19:00.953258Z",
     "start_time": "2020-10-11T14:19:00.931980Z"
    }
   },
   "outputs": [],
   "source": []
  },
  {
   "cell_type": "code",
   "execution_count": 62,
   "metadata": {
    "ExecuteTime": {
     "end_time": "2020-10-11T14:19:03.285832Z",
     "start_time": "2020-10-11T14:19:03.263803Z"
    }
   },
   "outputs": [
    {
     "data": {
      "text/plain": [
       "'2020.10.17 at 10:25 (UTC+02:00)'"
      ]
     },
     "execution_count": 62,
     "metadata": {},
     "output_type": "execute_result"
    }
   ],
   "source": [
    "el.text"
   ]
  },
  {
   "cell_type": "code",
   "execution_count": 58,
   "metadata": {
    "ExecuteTime": {
     "end_time": "2020-10-11T14:15:47.997703Z",
     "start_time": "2020-10-11T14:09:20.917158Z"
    }
   },
   "outputs": [
    {
     "name": "stdout",
     "output_type": "stream",
     "text": [
      "3/1921 Checking: William\n",
      "William registered\n",
      "1/1921 Checking: Liam\n",
      "Liam registered\n",
      "2/1921 Checking: Noah\n",
      "Noah registered\n",
      "4/1921 Checking: James\n",
      "James registered\n",
      "5/1921 Checking: Logan\n",
      "Logan registered\n",
      "6/1921 Checking: Benjamin\n",
      "Benjamin registered\n",
      "7/1921 Checking: Mason\n"
     ]
    },
    {
     "ename": "KeyboardInterrupt",
     "evalue": "",
     "output_type": "error",
     "traceback": [
      "\u001b[0;31m---------------------------------------------------------------------------\u001b[0m",
      "\u001b[0;31mKeyboardInterrupt\u001b[0m                         Traceback (most recent call last)",
      "\u001b[0;32m<ipython-input-58-7be682a44f39>\u001b[0m in \u001b[0;36m<module>\u001b[0;34m\u001b[0m\n\u001b[1;32m     16\u001b[0m \u001b[0;34m\u001b[0m\u001b[0m\n\u001b[1;32m     17\u001b[0m     \u001b[0mbrowser\u001b[0m\u001b[0;34m.\u001b[0m\u001b[0mget\u001b[0m\u001b[0;34m(\u001b[0m\u001b[0;34m'https://app.ens.domains/name/'\u001b[0m \u001b[0;34m+\u001b[0m \u001b[0mname\u001b[0m \u001b[0;34m+\u001b[0m \u001b[0;34m'.eth'\u001b[0m\u001b[0;34m)\u001b[0m\u001b[0;34m\u001b[0m\u001b[0;34m\u001b[0m\u001b[0m\n\u001b[0;32m---> 18\u001b[0;31m     \u001b[0mtime\u001b[0m\u001b[0;34m.\u001b[0m\u001b[0msleep\u001b[0m\u001b[0;34m(\u001b[0m\u001b[0;36m60\u001b[0m\u001b[0;34m)\u001b[0m\u001b[0;34m\u001b[0m\u001b[0;34m\u001b[0m\u001b[0m\n\u001b[0m\u001b[1;32m     19\u001b[0m \u001b[0;34m\u001b[0m\u001b[0m\n\u001b[1;32m     20\u001b[0m     \u001b[0;32mtry\u001b[0m\u001b[0;34m:\u001b[0m\u001b[0;34m\u001b[0m\u001b[0;34m\u001b[0m\u001b[0m\n",
      "\u001b[0;31mKeyboardInterrupt\u001b[0m: "
     ]
    }
   ],
   "source": [
    "results = []\n",
    "results_expiry = {}\n",
    "\n",
    "run = True\n",
    "while run:\n",
    "    \n",
    "    # load names already scraped:\n",
    "    df = pd.read_csv('results.csv', index_col=0)\n",
    "    names_done = df.index.tolist()\n",
    "    name = ''\n",
    "    for i, name in enumerate(names):\n",
    "        if name in names_done:\n",
    "            pass\n",
    "        else:\n",
    "            break\n",
    "    \n",
    "    print(f'{i+1}/{len(names)} Checking: {name}')\n",
    "\n",
    "    browser.get('https://app.ens.domains/name/' + name + '.eth')\n",
    "    time.sleep(60)\n",
    "\n",
    "    try:\n",
    "        el = browser.find_element(By.XPATH, '/html/body/div[1]/div/main/div/section/div[2]/div[1]/div/div[1]')\n",
    "        name = el.text\n",
    "        \n",
    "        el = browser.find_element(By.XPATH, '/html/body/div[1]/div/main/div/section/div[2]/div[3]/div/div[2]')\n",
    "        expiry = el.text\n",
    "        print(f'{name} registered, expiry {expiry}')\n",
    "        \n",
    "        result = {}\n",
    "        result['name'] = name\n",
    "        result['expiry'] = expiry\n",
    "        results.append(result)\n",
    "        \n",
    "        \n",
    "    except:\n",
    "        \n",
    "        # check if we're getting rate limited\n",
    "        ratelimited = False\n",
    "        try:\n",
    "            el = browser.find_element(By.XPATH, '/html/body/div[1]/div/div/h2')\n",
    "            print('RATE LIMITED ', el.text)\n",
    "            ratelimited = True\n",
    "            time.sleep(60)\n",
    "        except:\n",
    "            pass\n",
    "        \n",
    "        if not ratelimited:\n",
    "            results[name] = 0\n",
    "            print(f'{name} available')\n",
    "        \n",
    "    # write output\n",
    "    df = pd.DataFrame(results)\n",
    "    df.columns = ['registered','expiry']\n",
    "    df.to_csv('results.csv')"
   ]
  },
  {
   "cell_type": "code",
   "execution_count": null,
   "metadata": {},
   "outputs": [],
   "source": []
  },
  {
   "cell_type": "code",
   "execution_count": 66,
   "metadata": {
    "ExecuteTime": {
     "end_time": "2020-10-11T14:20:59.559063Z",
     "start_time": "2020-10-11T14:20:59.554473Z"
    }
   },
   "outputs": [],
   "source": [
    "results = []"
   ]
  },
  {
   "cell_type": "code",
   "execution_count": 67,
   "metadata": {
    "ExecuteTime": {
     "end_time": "2020-10-11T14:21:01.087634Z",
     "start_time": "2020-10-11T14:21:01.083561Z"
    }
   },
   "outputs": [],
   "source": [
    "result = {}\n",
    "result['name'] = 'aa'\n",
    "result['expiry'] = '20202020'\n",
    "results.append(result)"
   ]
  },
  {
   "cell_type": "code",
   "execution_count": 68,
   "metadata": {
    "ExecuteTime": {
     "end_time": "2020-10-11T14:21:08.634445Z",
     "start_time": "2020-10-11T14:21:08.630363Z"
    }
   },
   "outputs": [],
   "source": [
    "result = {}\n",
    "result['name'] = 'bb'\n",
    "result['expiry'] = '2019'\n",
    "results.append(result)"
   ]
  },
  {
   "cell_type": "code",
   "execution_count": 71,
   "metadata": {
    "ExecuteTime": {
     "end_time": "2020-10-11T14:21:27.029603Z",
     "start_time": "2020-10-11T14:21:27.022369Z"
    }
   },
   "outputs": [],
   "source": []
  },
  {
   "cell_type": "code",
   "execution_count": null,
   "metadata": {},
   "outputs": [],
   "source": []
  }
 ],
 "metadata": {
  "kernelspec": {
   "display_name": "Python 3",
   "language": "python",
   "name": "python3"
  },
  "language_info": {
   "codemirror_mode": {
    "name": "ipython",
    "version": 3
   },
   "file_extension": ".py",
   "mimetype": "text/x-python",
   "name": "python",
   "nbconvert_exporter": "python",
   "pygments_lexer": "ipython3",
   "version": "3.7.7"
  },
  "varInspector": {
   "cols": {
    "lenName": 16,
    "lenType": 16,
    "lenVar": 40
   },
   "kernels_config": {
    "python": {
     "delete_cmd_postfix": "",
     "delete_cmd_prefix": "del ",
     "library": "var_list.py",
     "varRefreshCmd": "print(var_dic_list())"
    },
    "r": {
     "delete_cmd_postfix": ") ",
     "delete_cmd_prefix": "rm(",
     "library": "var_list.r",
     "varRefreshCmd": "cat(var_dic_list()) "
    }
   },
   "types_to_exclude": [
    "module",
    "function",
    "builtin_function_or_method",
    "instance",
    "_Feature"
   ],
   "window_display": false
  }
 },
 "nbformat": 4,
 "nbformat_minor": 4
}
